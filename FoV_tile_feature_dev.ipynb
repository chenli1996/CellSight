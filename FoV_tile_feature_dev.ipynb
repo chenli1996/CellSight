{
 "cells": [
  {
   "cell_type": "code",
   "execution_count": 1,
   "id": "8be903bb-3a1a-47ff-8c10-3b4435fae2f9",
   "metadata": {},
   "outputs": [],
   "source": [
    "# !pip install open3d"
   ]
  },
  {
   "cell_type": "code",
   "execution_count": 3,
   "id": "ec03aa70-26ee-4a21-9425-7263110cf6ad",
   "metadata": {},
   "outputs": [],
   "source": [
    "ply_file_path = './i8/longdress/longdress/Ply/'\n",
    "ply_file_name = 'longdress_vox10_1311.ply'"
   ]
  },
  {
   "cell_type": "code",
   "execution_count": 1,
   "id": "86da7875-9337-4b32-8c8f-744290c6df8e",
   "metadata": {},
   "outputs": [],
   "source": [
    "import numpy as np\n",
    "import open3d as o3d\n",
    "\n",
    "def main():\n",
    "    pts = np.random.randint(0, 100, (100, 3))\n",
    "\n",
    "    # whether to write in binary or text format\n",
    "    write_text = True\n",
    "\n",
    "    # use open3d\n",
    "    use_o3d(pts, write_text)\n",
    "\n",
    "\n",
    "def use_o3d(pts, write_text):\n",
    "    pcd = o3d.geometry.PointCloud()\n",
    "\n",
    "    # the method Vector3dVector() will convert numpy array of shape (n, 3) to Open3D format.\n",
    "    # see http://www.open3d.org/docs/release/python_api/open3d.utility.Vector3dVector.html#open3d.utility.Vector3dVector\n",
    "    pcd.points = o3d.utility.Vector3dVector(pts)\n",
    "\n",
    "    # http://www.open3d.org/docs/release/python_api/open3d.io.write_point_cloud.html#open3d.io.write_point_cloud\n",
    "    my_pts = ply_file_path+ply_file_name\n",
    "    o3d.io.write_point_cloud(my_pts, pcd, write_ascii=write_text)\n",
    "\n",
    "    # read ply file\n",
    "    pcd = o3d.io.read_point_cloud(my_pts)\n",
    "\n",
    "    # visualize\n",
    "    # o3d.visualization.draw_geometries([pcd])"
   ]
  },
  {
   "cell_type": "code",
   "execution_count": 6,
   "id": "5366fad6-e6bc-4910-9323-809ef6d888af",
   "metadata": {},
   "outputs": [
    {
     "name": "stdout",
     "output_type": "stream",
     "text": [
      "\u001b[1;33m[Open3D WARNING] Write PLY failed: unable to open file: Users/chenli/research/point cloud/i8/longdress/longdress/Ply/longdress_vox10_1311.ply\u001b[0;m\n",
      "\u001b[1;33m[Open3D WARNING] Read PLY failed: unable to open file: Users/chenli/research/point cloud/i8/longdress/longdress/Ply/longdress_vox10_1311.ply\u001b[0;m\n"
     ]
    },
    {
     "name": "stderr",
     "output_type": "stream",
     "text": [
      "RPly: Unable to create file\n",
      "RPly: Unable to open file\n"
     ]
    }
   ],
   "source": [
    "main()"
   ]
  },
  {
   "cell_type": "markdown",
   "id": "fb6c2fad-7e15-4bd9-8739-f63c35d43b4c",
   "metadata": {},
   "source": [
    "# read ply"
   ]
  },
  {
   "cell_type": "code",
   "execution_count": 5,
   "id": "1091eb1f-9f89-438c-867a-8be593bf24b9",
   "metadata": {},
   "outputs": [
    {
     "ename": "NameError",
     "evalue": "name 'o3d' is not defined",
     "output_type": "error",
     "traceback": [
      "\u001b[0;31m---------------------------------------------------------------------------\u001b[0m",
      "\u001b[0;31mNameError\u001b[0m                                 Traceback (most recent call last)",
      "\u001b[1;32m/Users/chenli/research/point cloud/FoV_tile_feature_dev.ipynb Cell 6\u001b[0m line \u001b[0;36m2\n\u001b[1;32m      <a href='vscode-notebook-cell:/Users/chenli/research/point%20cloud/FoV_tile_feature_dev.ipynb#W5sZmlsZQ%3D%3D?line=0'>1</a>\u001b[0m my_pts \u001b[39m=\u001b[39m ply_file_path\u001b[39m+\u001b[39mply_file_name\n\u001b[0;32m----> <a href='vscode-notebook-cell:/Users/chenli/research/point%20cloud/FoV_tile_feature_dev.ipynb#W5sZmlsZQ%3D%3D?line=1'>2</a>\u001b[0m pcd \u001b[39m=\u001b[39m o3d\u001b[39m.\u001b[39mio\u001b[39m.\u001b[39mread_point_cloud(my_pts)\n",
      "\u001b[0;31mNameError\u001b[0m: name 'o3d' is not defined"
     ]
    }
   ],
   "source": [
    "my_pts = ply_file_path+ply_file_name\n",
    "pcd = o3d.io.read_point_cloud(my_pts)"
   ]
  },
  {
   "cell_type": "code",
   "execution_count": 34,
   "id": "bc5aba12-67a4-49e2-aced-346de6f678db",
   "metadata": {},
   "outputs": [
    {
     "data": {
      "text/plain": [
       "PointCloud with 854949 points."
      ]
     },
     "execution_count": 34,
     "metadata": {},
     "output_type": "execute_result"
    }
   ],
   "source": [
    "pcd"
   ]
  },
  {
   "cell_type": "code",
   "execution_count": null,
   "id": "ebedfedb-a5d5-47d0-a306-2c20cf2c779a",
   "metadata": {},
   "outputs": [],
   "source": []
  },
  {
   "cell_type": "code",
   "execution_count": null,
   "id": "e6917c59-f663-496c-a4cd-626dbcc98711",
   "metadata": {},
   "outputs": [],
   "source": []
  },
  {
   "cell_type": "code",
   "execution_count": 18,
   "id": "a8b626f7-6874-43bf-ae5c-c08eae146cc4",
   "metadata": {},
   "outputs": [
    {
     "name": "stdout",
     "output_type": "stream",
     "text": [
      "\u001b[1;33m[Open3D WARNING] GLFW Error: Cocoa: Failed to find service port for display\u001b[0;m\n",
      "\u001b[1;33m[Open3D WARNING] GLFW Error: Cocoa: Failed to find service port for display\u001b[0;m\n",
      "\u001b[1;33m[Open3D WARNING] GLFW Error: Cocoa: Failed to find service port for display\u001b[0;m\n"
     ]
    }
   ],
   "source": [
    "# visualize\n",
    "o3d.visualization.draw_geometries([pcd])"
   ]
  },
  {
   "cell_type": "code",
   "execution_count": 13,
   "id": "0fa769a8-ab8c-48e1-9f50-699fff007f67",
   "metadata": {},
   "outputs": [
    {
     "data": {
      "text/plain": [
       "True"
      ]
     },
     "execution_count": 13,
     "metadata": {},
     "output_type": "execute_result"
    }
   ],
   "source": [
    "# Pass numpy array to Open3D.o3d.geometry.PointCloud and visualize\n",
    "xyz = np.random.rand(100, 3)\n",
    "pcd = o3d.geometry.PointCloud()\n",
    "pcd.points = o3d.utility.Vector3dVector(xyz)\n",
    "o3d.io.write_point_cloud(\"./data.ply\", pcd)"
   ]
  },
  {
   "cell_type": "code",
   "execution_count": 16,
   "id": "8989194a-fcb8-43fd-869d-0bd24804aa0a",
   "metadata": {},
   "outputs": [
    {
     "name": "stdout",
     "output_type": "stream",
     "text": [
      "\u001b[1;33m[Open3D WARNING] GLFW Error: Cocoa: Failed to find service port for display\u001b[0;m\n",
      "\u001b[1;33m[Open3D WARNING] GLFW Error: Cocoa: Failed to find service port for display\u001b[0;m\n",
      "\u001b[1;33m[Open3D WARNING] GLFW Error: Cocoa: Failed to find service port for display\u001b[0;m\n"
     ]
    }
   ],
   "source": [
    "# o3d.visualization.draw_geometries([pcd])\n",
    "o3d.visualization.draw_geometries_with_editing([pcd])"
   ]
  },
  {
   "cell_type": "markdown",
   "id": "67191115-1e8c-479d-8641-6ef9589d7997",
   "metadata": {},
   "source": [
    "# vivo"
   ]
  },
  {
   "cell_type": "code",
   "execution_count": 99,
   "id": "590b29a5-3087-4f23-b691-c2530d42ee5c",
   "metadata": {},
   "outputs": [
    {
     "ename": "TypeError",
     "evalue": "ufunc 'true_divide' output (typecode 'd') could not be coerced to provided output parameter (typecode 'l') according to the casting rule ''same_kind''",
     "output_type": "error",
     "traceback": [
      "\u001b[0;31m---------------------------------------------------------------------------\u001b[0m",
      "\u001b[0;31mTypeError\u001b[0m                                 Traceback (most recent call last)",
      "\u001b[0;32m~/research/point cloud/tgn_utils.py\u001b[0m in \u001b[0;36m<module>\u001b[0;34m\u001b[0m\n\u001b[1;32m     92\u001b[0m \u001b[0mtarget_distance\u001b[0m \u001b[0;34m=\u001b[0m \u001b[0mnp\u001b[0m\u001b[0;34m.\u001b[0m\u001b[0mlinalg\u001b[0m\u001b[0;34m.\u001b[0m\u001b[0mnorm\u001b[0m\u001b[0;34m(\u001b[0m\u001b[0mtarget_cell_center\u001b[0m \u001b[0;34m-\u001b[0m \u001b[0mnp\u001b[0m\u001b[0;34m.\u001b[0m\u001b[0marray\u001b[0m\u001b[0;34m(\u001b[0m\u001b[0mviewpoint\u001b[0m\u001b[0;34m[\u001b[0m\u001b[0;34m:\u001b[0m\u001b[0;36m3\u001b[0m\u001b[0;34m]\u001b[0m\u001b[0;34m)\u001b[0m\u001b[0;34m)\u001b[0m\u001b[0;34m\u001b[0m\u001b[0;34m\u001b[0m\u001b[0m\n\u001b[1;32m     93\u001b[0m \u001b[0;34m\u001b[0m\u001b[0m\n\u001b[0;32m---> 94\u001b[0;31m \u001b[0moccluding_cells\u001b[0m \u001b[0;34m=\u001b[0m \u001b[0mocclusion_count\u001b[0m\u001b[0;34m(\u001b[0m\u001b[0mviewpoint\u001b[0m\u001b[0;34m,\u001b[0m \u001b[0mtarget_cell_center\u001b[0m\u001b[0;34m,\u001b[0m \u001b[0mcell_size\u001b[0m\u001b[0;34m,\u001b[0m \u001b[0mtarget_distance\u001b[0m\u001b[0;34m)\u001b[0m\u001b[0;34m\u001b[0m\u001b[0;34m\u001b[0m\u001b[0m\n\u001b[0m\u001b[1;32m     95\u001b[0m \u001b[0mprint\u001b[0m\u001b[0;34m(\u001b[0m\u001b[0;34mf\"Number of occluding cells: {occluding_cells}\"\u001b[0m\u001b[0;34m)\u001b[0m\u001b[0;34m\u001b[0m\u001b[0;34m\u001b[0m\u001b[0m\n",
      "\u001b[0;32m~/research/point cloud/tgn_utils.py\u001b[0m in \u001b[0;36mocclusion_count\u001b[0;34m(viewpoint, target_cell_center, cell_size, target_distance)\u001b[0m\n\u001b[1;32m     66\u001b[0m     \u001b[0mray_origin\u001b[0m \u001b[0;34m=\u001b[0m \u001b[0mnp\u001b[0m\u001b[0;34m.\u001b[0m\u001b[0marray\u001b[0m\u001b[0;34m(\u001b[0m\u001b[0mviewpoint\u001b[0m\u001b[0;34m[\u001b[0m\u001b[0;34m:\u001b[0m\u001b[0;36m3\u001b[0m\u001b[0;34m]\u001b[0m\u001b[0;34m)\u001b[0m\u001b[0;34m\u001b[0m\u001b[0;34m\u001b[0m\u001b[0m\n\u001b[1;32m     67\u001b[0m     \u001b[0mray_direction\u001b[0m \u001b[0;34m=\u001b[0m \u001b[0mtarget_cell_center\u001b[0m \u001b[0;34m-\u001b[0m \u001b[0mray_origin\u001b[0m  \u001b[0;31m# Assumes already normalized if needed\u001b[0m\u001b[0;34m\u001b[0m\u001b[0;34m\u001b[0m\u001b[0m\n\u001b[0;32m---> 68\u001b[0;31m     \u001b[0mray_direction\u001b[0m \u001b[0;34m/=\u001b[0m \u001b[0mnp\u001b[0m\u001b[0;34m.\u001b[0m\u001b[0mlinalg\u001b[0m\u001b[0;34m.\u001b[0m\u001b[0mnorm\u001b[0m\u001b[0;34m(\u001b[0m\u001b[0mray_direction\u001b[0m\u001b[0;34m)\u001b[0m   \u001b[0;31m# Normalize the ray direction\u001b[0m\u001b[0;34m\u001b[0m\u001b[0;34m\u001b[0m\u001b[0m\n\u001b[0m\u001b[1;32m     69\u001b[0m \u001b[0;34m\u001b[0m\u001b[0m\n\u001b[1;32m     70\u001b[0m     \u001b[0;31m# Define the bounds of the surrounding cells\u001b[0m\u001b[0;34m\u001b[0m\u001b[0;34m\u001b[0m\u001b[0;34m\u001b[0m\u001b[0m\n",
      "\u001b[0;31mTypeError\u001b[0m: ufunc 'true_divide' output (typecode 'd') could not be coerced to provided output parameter (typecode 'l') according to the casting rule ''same_kind''"
     ]
    }
   ],
   "source": [
    "%run tgn_utils.py"
   ]
  },
  {
   "cell_type": "code",
   "execution_count": 101,
   "id": "b3f86e63-36f4-47f2-8e2c-53b3732ab7c5",
   "metadata": {},
   "outputs": [],
   "source": [
    "def occlusion_mapping(R_c, alpha, beta, S_c):\n",
    "    \"\"\"\n",
    "    Maps R(c) to an integer value based on given thresholds.\n",
    "\n",
    "    :param R_c:   The R(c) value to map\n",
    "    :param alpha: List or tuple of alpha values [α0, α1, α2]\n",
    "    :param beta:  The beta value\n",
    "    :param S_c:   The S(c) value\n",
    "    :return:      The mapped integer value\n",
    "    \"\"\"\n",
    "    thresholds = [a * (beta ** (S_c - 1)) for a in alpha]\n",
    "    print(thresholds)\n",
    "\n",
    "    if R_c < thresholds[0]:\n",
    "        return 0\n",
    "    elif thresholds[0] <= R_c < thresholds[1]:\n",
    "        return 1\n",
    "    elif thresholds[1] <= R_c < thresholds[2]:\n",
    "        return 2\n",
    "    elif thresholds[2] <= R_c:\n",
    "        return 3\n",
    "\n",
    "# Example usage:\n",
    "# alpha_values = [alpha0, alpha1, alpha2]  # Replace with actual values for α0, α1, and α2\n",
    "# beta_value = beta  # Replace with the actual value for β\n",
    "# S_c_value = S_c  # Replace with the actual value for S(c)\n",
    "# R_c_value = R_c  # Replace with the actual value for R(c)\n",
    "\n",
    "# result = occlusion_mapping(R_c_value, alpha_values, beta_value, S_c_value)\n",
    "# print(result)\n"
   ]
  },
  {
   "cell_type": "code",
   "execution_count": 102,
   "id": "f7f60f03-c108-4bd7-9fc7-a80b8c3b9f77",
   "metadata": {},
   "outputs": [
    {
     "name": "stdout",
     "output_type": "stream",
     "text": [
      "[0.6, 1.0, 3.0]\n",
      "2\n"
     ]
    }
   ],
   "source": [
    "alpha0 = 0.6\n",
    "alpha1=1\n",
    "alpha2=3\n",
    "beta = 0.8\n",
    "S_c =1\n",
    "R_c = 1\n",
    "\n",
    "\n",
    "alpha_values = [alpha0, alpha1, alpha2]  # Replace with actual values for α0, α1, and α2\n",
    "beta_value = beta  # Replace with the actual value for β\n",
    "S_c_value = S_c  # Replace with the actual value for S(c)\n",
    "R_c_value = R_c  # Replace with the actual value for R(c)\n",
    "\n",
    "result = occlusion_mapping(R_c_value, alpha_values, beta_value, S_c_value)\n",
    "print(result)\n"
   ]
  },
  {
   "cell_type": "markdown",
   "id": "273886f9-a525-4fc3-bbda-b6ded93b2fb4",
   "metadata": {},
   "source": [
    "\n",
    "# To implement a Ray-Box Intersection algorithm in Python, which counts the number of surrounding cells (out of the 26 neighbors in a 3x3x3 grid excluding the center cell) that meet the occlusion criteria, we can follow these steps:\n",
    "\n",
    "Define the ray starting from the viewpoint and going through the center of the cell c.\n",
    "Check the intersection of this ray with each of the 26 neighboring cells.\n",
    "Count those cells that intersect with the ray and are closer to the viewpoint than cell c. -->"
   ]
  },
  {
   "cell_type": "code",
   "execution_count": 103,
   "id": "fb5cf8bb-9253-45f5-8b6d-10890b4c9e85",
   "metadata": {},
   "outputs": [],
   "source": [
    "def ray_box_intersection(ray_origin, ray_direction, box_min, box_max):\n",
    "    \"\"\"\n",
    "    Check if a ray intersects with a box (AABB).\n",
    "    :param ray_origin: Origin of the ray (np.array)\n",
    "    :param ray_direction: Direction of the ray (np.array)\n",
    "    :param box_min: Minimum vertex of the box (np.array)\n",
    "    :param box_max: Maximum vertex of the box (np.array)\n",
    "    :return: Boolean indicating if there is an intersection\n",
    "    \"\"\"\n",
    "    t_min = (box_min - ray_origin) / ray_direction\n",
    "    t_max = (box_max - ray_origin) / ray_direction\n",
    "    t1 = np.minimum(t_min, t_max)\n",
    "    t2 = np.maximum(t_min, t_max)\n",
    "    t_near = np.max(t1)\n",
    "    t_far = np.min(t2)\n",
    "\n",
    "    if t_near > t_far or t_far < 0:\n",
    "        return False\n",
    "\n",
    "    return True\n",
    "\n",
    "def occlusion_count(viewpoint, target_cell_center, cell_size, target_distance):\n",
    "    \"\"\"\n",
    "    Count the number of surrounding cells that meet the occlusion criteria.\n",
    "    :param viewpoint: Viewpoint coordinates and orientation (X, Y, Z, yaw, pitch, roll)\n",
    "    :param target_cell_center: Center of the target cell 'c'\n",
    "    :param cell_size: Size of each cell\n",
    "    :param target_distance: Distance from the viewpoint to the target cell 'c'\n",
    "    :return: Number of cells occluding the target cell 'c'\n",
    "    \"\"\"\n",
    "    count = 0\n",
    "    ray_origin = np.array(viewpoint[:3])\n",
    "    ray_direction = target_cell_center - ray_origin  # Assumes already normalized if needed\n",
    "    # ray_direction /= np.linalg.norm(ray_direction)   # Normalize the ray direction\n",
    "    # Define the bounds of the surrounding cells\n",
    "    offsets = [-cell_size, 0, cell_size]\n",
    "    for dx in offsets:\n",
    "        for dy in offsets:\n",
    "            for dz in offsets:\n",
    "                if dx == dy == dz == 0:\n",
    "                    continue  # Skip the center cell itself\n",
    "                \n",
    "                neighbor_center = target_cell_center + np.array([dx, dy, dz])\n",
    "                box_min = neighbor_center - np.array([cell_size/2] * 3)\n",
    "                box_max = neighbor_center + np.array([cell_size/2] * 3)\n",
    "                distance_to_neighbor = np.linalg.norm(neighbor_center - ray_origin)\n",
    "                # import pdb;pdb.set_trace()\n",
    "                if ray_box_intersection(ray_origin, ray_direction, box_min, box_max) and distance_to_neighbor < target_distance:\n",
    "                    count += 1\n",
    "\n",
    "    return count\n",
    "\n"
   ]
  },
  {
   "cell_type": "code",
   "execution_count": 110,
   "id": "182124f6-879d-4d4a-91dd-78a391f070be",
   "metadata": {},
   "outputs": [
    {
     "name": "stdout",
     "output_type": "stream",
     "text": [
      "Number of occluding cells: 3\n"
     ]
    }
   ],
   "source": [
    "import numpy as np\n",
    "# Example usage:\n",
    "viewpoint = (1, 1, 1)  # Example viewpoint with XYZ and yaw, pitch, roll\n",
    "target_cell_center = np.array([5, 5, 0])  # Center of the target cell\n",
    "cell_size = 1.0  # Size of each cell\n",
    "target_distance = np.linalg.norm(target_cell_center - np.array(viewpoint[:3]))\n",
    "\n",
    "occluding_cells = occlusion_count(viewpoint, target_cell_center, cell_size, target_distance)\n",
    "print(f\"Number of occluding cells: {occluding_cells}\")\n"
   ]
  },
  {
   "cell_type": "code",
   "execution_count": 36,
   "id": "b160433e-4864-4334-a670-6b13daa863bc",
   "metadata": {},
   "outputs": [],
   "source": [
    "# target_distance"
   ]
  },
  {
   "cell_type": "markdown",
   "id": "e0b0ade8-786b-4245-9859-46f05c28bd69",
   "metadata": {},
   "source": [
    "# view frustum"
   ]
  },
  {
   "cell_type": "code",
   "execution_count": 47,
   "id": "3c5062cc-ff16-47c4-acda-1020dcd6e971",
   "metadata": {},
   "outputs": [],
   "source": [
    "import numpy as np\n",
    "\n",
    "def ypr_to_direction(yaw, pitch, roll):\n",
    "    # Assuming the angles are given in degrees and the roll is not used for the direction\n",
    "    yaw_rad = np.radians(yaw)\n",
    "    pitch_rad = np.radians(pitch)\n",
    "    \n",
    "    # Calculate the direction vector\n",
    "    x = np.cos(pitch_rad) * np.cos(yaw_rad)\n",
    "    y = np.sin(pitch_rad)\n",
    "    z = np.cos(pitch_rad) * np.sin(yaw_rad)\n",
    "    \n",
    "    return np.array([x, y, z])\n"
   ]
  },
  {
   "cell_type": "code",
   "execution_count": 48,
   "id": "95f8ac03-b5b3-450a-8a94-2d67e214b564",
   "metadata": {},
   "outputs": [],
   "source": [
    "def get_view_frustum_cells(viewpoint, yaw, pitch, roll, fov_y, aspect_ratio, near_clip, far_clip, cell_size, grid_size):\n",
    "    direction = ypr_to_direction(yaw, pitch, roll)\n",
    "    \n",
    "    # Calculate the tangent of the half FoV\n",
    "    tan_fov_y = np.tan(np.radians(fov_y / 2))\n",
    "    tan_fov_x = aspect_ratio * tan_fov_y\n",
    "    \n",
    "    # Define the frustum bounds relative to the viewpoint\n",
    "    half_height_near = tan_fov_y * near_clip\n",
    "    half_width_near = tan_fov_x * near_clip\n",
    "    half_height_far = tan_fov_y * far_clip\n",
    "    half_width_far = tan_fov_x * far_clip\n",
    "    \n",
    "    target_cells = []\n",
    "    \n",
    "    # Loop through each cell in the grid\n",
    "    for x in range(grid_size[0]):\n",
    "        for y in range(grid_size[1]):\n",
    "            for z in range(grid_size[2]):\n",
    "                # Calculate the center of the cell\n",
    "                cell_center = np.array([x, y, z]) * cell_size + cell_size / 2\n",
    "                \n",
    "                # Vector from the viewpoint to the cell center\n",
    "                vec = cell_center - viewpoint\n",
    "                \n",
    "                # Distance from the viewpoint to the cell center\n",
    "                dist = np.linalg.norm(vec)\n",
    "                \n",
    "                # Normalize the vector\n",
    "                norm_vec = vec / dist\n",
    "                \n",
    "                # Angle between the view direction and the vector\n",
    "                angle_x = np.arctan2(norm_vec[0], norm_vec[2])\n",
    "                angle_y = np.arctan2(norm_vec[1], norm_vec[2])\n",
    "                \n",
    "                # Check if within frustum bounds\n",
    "                if (-half_width_near <= dist * np.tan(angle_x) <= half_width_near and\n",
    "                    -half_height_near <= dist * np.tan(angle_y) <= half_height_near and\n",
    "                    near_clip <= dist <= far_clip):\n",
    "                    target_cells.append((x, y, z))\n",
    "    \n",
    "    return target_cells\n"
   ]
  },
  {
   "cell_type": "code",
   "execution_count": null,
   "id": "3d97a239-6a8c-4cb6-bb85-ac8c7fe79a82",
   "metadata": {},
   "outputs": [],
   "source": []
  },
  {
   "cell_type": "code",
   "execution_count": 49,
   "id": "ffa61b93-febf-4c51-9282-68d02bfc4e83",
   "metadata": {},
   "outputs": [],
   "source": [
    "X,Y,Z,YAW,PITCH,ROLL = 0.05,1.7868,-1.0947,6.9163,350.8206,359.9912\n",
    "\n",
    "viewpoint = np.array([X,Y,Z])  # Replace with your viewpoint coordinates\n",
    "yaw = YAW  # Replace with your yaw angle\n",
    "pitch = PITCH  # Replace with your pitch angle\n",
    "roll = ROLL  # Replace with your roll angle (usually not used for frustum calculation)\n",
    "fov_y = 45.0  # Field of view angle in degrees\n",
    "aspect_ratio = 1 / 1  # Replace with your display's aspect ratio\n",
    "near_clip = 1  # Replace with your near clipping plane distance\n",
    "far_clip = 100  # Replace with your far clipping plane distance\n",
    "cell_size = 1  # Replace with the size of each cell\n",
    "grid_size = (1, 1, 1)  # Replace with the size of your grid\n",
    "\n",
    "target_cells = get_view_frustum_cells(viewpoint, yaw, pitch, roll, fov_y, aspect_ratio, near_clip, far_clip, cell_size, grid_size)\n"
   ]
  },
  {
   "cell_type": "code",
   "execution_count": 50,
   "id": "a2c06798-737b-4fcd-b9c9-8999fbe778c2",
   "metadata": {},
   "outputs": [
    {
     "data": {
      "text/plain": [
       "[]"
      ]
     },
     "execution_count": 50,
     "metadata": {},
     "output_type": "execute_result"
    }
   ],
   "source": [
    "target_cells"
   ]
  },
  {
   "cell_type": "code",
   "execution_count": 52,
   "id": "3bea2882-5555-4855-ad07-afeaaf8b1285",
   "metadata": {},
   "outputs": [
    {
     "name": "stdout",
     "output_type": "stream",
     "text": [
      "Number of cells\n"
     ]
    }
   ],
   "source": [
    "import numpy as np\n",
    "\n",
    "def get_view_frustum_cells(viewpoint, orientation, fov_y, aspect_ratio, near_clip, far_clip, cell_size):\n",
    "    \"\"\"\n",
    "    Get all target cells within the view frustum.\n",
    "\n",
    "    :param viewpoint: (X, Y, Z) coordinates of the viewpoint.\n",
    "    :param orientation: (yaw, pitch, roll) orientation of the viewpoint.\n",
    "    :param fov_y: Field of View angle in Y dimension in degrees.\n",
    "    :param aspect_ratio: Aspect ratio (width/height) of the view frustum.\n",
    "    :param near_clip: Distance from the viewer to the near clipping plane.\n",
    "    :param far_clip: Distance from the viewer to the far clipping plane.\n",
    "    :param cell_size: Size of each cell in the grid.\n",
    "    :return: List of cell centers within the view frustum.\n",
    "    \"\"\"\n",
    "    # Convert orientation to radians\n",
    "    yaw, pitch, roll = np.radians(orientation)\n",
    "\n",
    "    # Calculate the view direction vector\n",
    "    direction = np.array([\n",
    "        np.cos(pitch) * np.sin(yaw),\n",
    "        np.sin(pitch),\n",
    "        np.cos(pitch) * np.cos(yaw)\n",
    "    ])\n",
    "\n",
    "    # Calculate half-angles for frustum planes\n",
    "    half_fov_y = np.radians(fov_y / 2)\n",
    "    half_fov_x = np.arctan(np.tan(half_fov_y) * aspect_ratio)\n",
    "\n",
    "    # Calculate frustum plane normals (assuming Y up, X right, Z into the screen)\n",
    "    up = np.array([0, 1, 0])\n",
    "    right = np.cross(up, direction)\n",
    "    up = np.cross(direction, right)\n",
    "    \n",
    "    normals = {\n",
    "        'near': direction,\n",
    "        'far': -direction,\n",
    "        'top': np.cross(right, np.array([np.sin(half_fov_y), np.cos(half_fov_y), 0])),\n",
    "        'bottom': np.cross(np.array([-np.sin(half_fov_y), np.cos(half_fov_y), 0]), right),\n",
    "        'left': np.cross(up, np.array([np.cos(half_fov_x), 0, -np.sin(half_fov_x)])),\n",
    "        'right': np.cross(np.array([np.cos(half_fov_x), 0, np.sin(half_fov_x)]), up)\n",
    "    }\n",
    "\n",
    "    # Define frustum bounds\n",
    "    frustum_bounds = {\n",
    "        'near': viewpoint + direction * near_clip,\n",
    "        'far': viewpoint + direction * far_clip\n",
    "    }\n",
    "\n",
    "    # Function to check if a point is inside the frustum\n",
    "    def is_inside_frustum(point):\n",
    "        for key, normal in normals.items():\n",
    "            d = np.dot(normal, point - frustum_bounds.get(key, viewpoint))\n",
    "            if (key == 'near' and d < 0) or (key == 'far' and d > 0):\n",
    "                return False\n",
    "            elif d < 0:\n",
    "                return False\n",
    "        return True\n",
    "\n",
    "    # Iterate through cells and check if they are in the frustum\n",
    "    cells_in_frustum = []\n",
    "    for x in range(int(viewpoint[0] - far_clip), int(viewpoint[0] + far_clip), cell_size):\n",
    "        for y in range(int(viewpoint[1] - far_clip), int(viewpoint[1] + far_clip), cell_size):\n",
    "            for z in range(int(viewpoint[2] - far_clip), int(viewpoint[2] + far_clip), cell_size):\n",
    "                cell_center = np.array([x + cell_size / 2, y + cell_size / 2, z + cell_size / 2])\n",
    "                if is_inside_frustum(cell_center):\n",
    "                    cells_in_frustum.append(cell_center)\n",
    "    return cells_in_frustum\n",
    "\n",
    "# Example usage:\n",
    "viewpoint = np.array([0, 0, 0])  # Viewpoint coordinates\n",
    "orientation = (0, 0, 0)  # View direction (yaw, pitch, roll)\n",
    "fov_y = 45  # Field of View in Y dimension\n",
    "aspect_ratio = 16/9  # Aspect ratio\n",
    "near_clip = 1  # Near clipping distance\n",
    "far_clip = 100  # Far clipping distance\n",
    "cell_size = 1  # Size of each cell\n",
    "\n",
    "cells = get_view_frustum_cells(viewpoint, orientation, fov_y, aspect_ratio, near_clip, far_clip, cell_size)\n",
    "print(f\"Number of cells\")\n"
   ]
  },
  {
   "cell_type": "markdown",
   "id": "86fc5a94-183e-4b31-b63f-8be55e02dff9",
   "metadata": {},
   "source": [
    "# FoV tiles version 2"
   ]
  },
  {
   "cell_type": "code",
   "execution_count": 96,
   "id": "f9c8bbdc-6b4b-4ded-bcc5-83ec31de9372",
   "metadata": {},
   "outputs": [
    {
     "name": "stdout",
     "output_type": "stream",
     "text": [
      "Visible cells: [(6, 0, 8), (6, 0, 9), (6, 1, 8), (6, 1, 9), (7, 0, 9), (7, 1, 9), (7, 2, 9), (7, 3, 9), (7, 4, 10)]\n"
     ]
    }
   ],
   "source": [
    "import numpy as np\n",
    "from math import sin, cos, radians, tan\n",
    "\n",
    "def get_view_frustum_cells(viewpoint, orientation, fov_y, aspect_ratio, grid_size, occupied_cells):\n",
    "    yaw, pitch, roll = orientation\n",
    "    # Convert angles to radians\n",
    "    yaw, pitch, roll = radians(yaw), radians(pitch), radians(roll)\n",
    "    \n",
    "    # Compute the rotation matrix from the orientation\n",
    "    Rz_yaw = np.array([\n",
    "        [cos(yaw), -sin(yaw), 0],\n",
    "        [sin(yaw),  cos(yaw), 0],\n",
    "        [0,             0,    1]\n",
    "    ])\n",
    "\n",
    "    Ry_pitch = np.array([\n",
    "        [cos(pitch), 0, sin(pitch)],\n",
    "        [0,          1,          0],\n",
    "        [-sin(pitch),0, cos(pitch)]\n",
    "    ])\n",
    "\n",
    "    Rx_roll = np.array([\n",
    "        [1, 0,           0],\n",
    "        [0, cos(roll), -sin(roll)],\n",
    "        [0, sin(roll),  cos(roll)]\n",
    "    ])\n",
    "\n",
    "    rotation_matrix = Rz_yaw @ Ry_pitch @ Rx_roll\n",
    "    \n",
    "    # Calculate half-angles for frustum bounds\n",
    "    half_fov_y = radians(fov_y) / 2\n",
    "    half_fov_x = half_fov_y * aspect_ratio\n",
    "    \n",
    "    # Define a lambda function to check if a point is in the frustum\n",
    "    def in_frustum(point, view_matrix):\n",
    "        # Transform the point into the view space\n",
    "        transformed_point = view_matrix @ np.array([point[0], point[1], point[2], 1]).T\n",
    "        \n",
    "        # Check against the frustum planes\n",
    "        x, y, z, w = transformed_point\n",
    "        x /= w\n",
    "        y /= w\n",
    "        z /= w\n",
    "        in_x = -tan(half_fov_x) * z <= x <= tan(half_fov_x) * z\n",
    "        in_y = -tan(half_fov_y) * z <= y <= tan(half_fov_y) * z\n",
    "        in_z = 0 < z  # Assuming the camera only looks forward\n",
    "        \n",
    "        return in_x and in_y and in_z\n",
    "    \n",
    "    # Create the view matrix from the rotation matrix and the translation vector\n",
    "    view_matrix = np.identity(4)\n",
    "    view_matrix[:3, :3] = rotation_matrix\n",
    "    view_matrix[:3, 3] = -rotation_matrix @ viewpoint\n",
    "    \n",
    "    # Check each cell\n",
    "    visible_cells = []\n",
    "    for cell in occupied_cells:\n",
    "        # Check if the occupied cell is in the frustum\n",
    "        if in_frustum(cell, view_matrix):\n",
    "            visible_cells.append(cell)\n",
    "            \n",
    "    return visible_cells\n",
    "\n",
    "# Assuming a function `is_occupied(x, y, z)` that returns True if the cell is occupied\n",
    "# def is_occupied(x, y, z):\n",
    "#     # Placeholder function for determining if a cell is occupied\n",
    "#     # Replace with your actual logic\n",
    "#     return np.random.rand() > 0.5  # Randomly occupying cells for this example\n",
    "\n",
    "\n",
    "# Define the grid size and the occupied cells\n",
    "grid_size = 16\n",
    "occupied_cells = [(x, y, z) for x in range(grid_size) for y in range(grid_size) for z in range(grid_size) if is_occupied(x, y, z)]\n",
    "\n",
    "# Example usage of the function\n",
    "viewpoint = (0, 0, 0)  # Center of the grid\n",
    "orientation = (0, 0, 0)  # Looking in the positive Z direction\n",
    "fov_y = 45  # Field of view in the Y dimension in degrees\n",
    "aspect_ratio = 16/9  # Aspect ratio of the display\n",
    "\n",
    "\n",
    "visible_cells = get_view_frustum_cells(viewpoint, orientation, fov_y, aspect_ratio, grid_size, occupied_cells)\n",
    "print(f\"Visible cells: {visible_cells}\")\n"
   ]
  },
  {
   "cell_type": "code",
   "execution_count": 97,
   "id": "96c33a8c-b867-4ef7-a7dd-7f20ac9299a4",
   "metadata": {},
   "outputs": [
    {
     "data": {
      "text/plain": [
       "192"
      ]
     },
     "execution_count": 97,
     "metadata": {},
     "output_type": "execute_result"
    }
   ],
   "source": [
    "# len(visible_cells)\n",
    "len(occupied_cells)"
   ]
  },
  {
   "cell_type": "code",
   "execution_count": 58,
   "id": "07bcf2a0-9bf6-4b7a-a73d-1cd14075c454",
   "metadata": {},
   "outputs": [
    {
     "name": "stdout",
     "output_type": "stream",
     "text": [
      "/Users/chenli/research/point cloud\n"
     ]
    }
   ],
   "source": [
    "!pwd"
   ]
  },
  {
   "cell_type": "markdown",
   "id": "252d1c1d-22ec-4935-ab1f-400476a46b18",
   "metadata": {},
   "source": [
    "# tile occupied or not"
   ]
  },
  {
   "cell_type": "code",
   "execution_count": 91,
   "id": "104d3f19-0d14-402a-99d2-5ba63969b5f2",
   "metadata": {},
   "outputs": [
    {
     "name": "stdout",
     "output_type": "stream",
     "text": [
      "The cell at (5, 7, 8) is occupied.\n"
     ]
    }
   ],
   "source": [
    "import os\n",
    "\n",
    "# Assuming 'base_path' is the directory containing the dataset\n",
    "base_path = '/Users/chenli/research/point cloud/tile_data/recons/1051/'\n",
    "\n",
    "def is_occupied(x, y, z, resolutions=[1, 2, 3, 4, 5, 6]):\n",
    "    \"\"\"\n",
    "    Check if a cell is occupied based on the existence of a corresponding file.\n",
    "    \n",
    "    :param frame_index: Frame index of the dataset\n",
    "    :param x: X index of the cell\n",
    "    :param y: Y index of the cell\n",
    "    :param z: Z index of the cell\n",
    "    :param resolutions: List of possible resolutions\n",
    "    :return: True if the cell is occupied, False otherwise\n",
    "    \"\"\"\n",
    "    frame_index=1051\n",
    "    for resolution in resolutions:\n",
    "        # Construct the file name based on the given parameters\n",
    "        file_name = f'longdress_{frame_index:04d}_{x:02d}_{y:02d}_{z:02d}_{resolution}.ply'\n",
    "        file_path = os.path.join(base_path, file_name)\n",
    "        # print(file_path)\n",
    "        # Check if the file exists\n",
    "        if os.path.isfile(file_path):\n",
    "            return True\n",
    "    \n",
    "    return False\n",
    "\n",
    "# Example usage:\n",
    "frame_index = 1051\n",
    "x, y, z = 5, 7, 8\n",
    "occupied = is_occupied(x, y, z)\n",
    "print(f\"The cell at ({x}, {y}, {z}) is {'occupied' if occupied else 'not occupied'}.\")"
   ]
  },
  {
   "cell_type": "code",
   "execution_count": 76,
   "id": "dbe1795e-e378-4a45-8c41-63cd911c0ba3",
   "metadata": {},
   "outputs": [
    {
     "name": "stdout",
     "output_type": "stream",
     "text": [
      "Cell (5, 7, 6) is occupied.\n"
     ]
    }
   ],
   "source": [
    "import numpy as np\n",
    "import os\n",
    "\n",
    "# Assuming 'base_path' is the directory containing the dataset\n",
    "# base_path = '/path/to/your/dataset/'\n",
    "frame_index = 1051  # The frame index you're interested in\n",
    "resolutions = [1, 2, 3, 4, 5, 6]  # The list of possible resolutions\n",
    "\n",
    "# Initialize a 3D NumPy array with zeros (not occupied)\n",
    "occupied_array = np.zeros((16, 16, 16), dtype=bool)\n",
    "\n",
    "# Populate the array with occupancy information\n",
    "for x in range(16):\n",
    "    for y in range(16):\n",
    "        for z in range(16):\n",
    "            for resolution in resolutions:\n",
    "                file_name = f'longdress_{frame_index:04d}_{x:02d}_{y:02d}_{z:02d}_{resolution}.ply'\n",
    "                file_path = os.path.join(base_path, file_name)\n",
    "                # print(file_path)\n",
    "                if os.path.isfile(file_path):                    \n",
    "                    occupied_array[x, y, z] = True\n",
    "                    break  # No need to check other resolutions if the cell is occupied\n",
    "\n",
    "# Now, occupied_array contains True for occupied cells and False for empty cells\n",
    "# Example usage to check if a cell is occupied:\n",
    "x, y, z = 5, 7, 6\n",
    "is_occupied = occupied_array[x, y, z]\n",
    "print(f\"Cell ({x}, {y}, {z}) is {'occupied' if is_occupied else 'not occupied'}.\")\n",
    "\n"
   ]
  },
  {
   "cell_type": "code",
   "execution_count": 77,
   "id": "950172c7-1c70-42f3-9753-8f6e80c0435d",
   "metadata": {},
   "outputs": [],
   "source": [
    "occupied_array\n",
    "# If you want to save the array to a file to use later without recalculating\n",
    "np.save('occupied_array.npy', occupied_array)\n",
    "\n",
    "# To load this array later, simply use:\n",
    "# occupied_array = np.load('occupied_array.npy')\n"
   ]
  },
  {
   "cell_type": "code",
   "execution_count": 79,
   "id": "7009659a-f33d-4319-bb83-7c078aa14497",
   "metadata": {},
   "outputs": [
    {
     "data": {
      "text/plain": [
       "192"
      ]
     },
     "execution_count": 79,
     "metadata": {},
     "output_type": "execute_result"
    }
   ],
   "source": [
    "occupied_array.sum()"
   ]
  },
  {
   "cell_type": "code",
   "execution_count": null,
   "id": "8076f951-9f62-4ddd-95b4-ad927d71ab9e",
   "metadata": {},
   "outputs": [],
   "source": []
  }
 ],
 "metadata": {
  "kernelspec": {
   "display_name": "Python 3 (ipykernel)",
   "language": "python",
   "name": "python3"
  },
  "language_info": {
   "codemirror_mode": {
    "name": "ipython",
    "version": 3
   },
   "file_extension": ".py",
   "mimetype": "text/x-python",
   "name": "python",
   "nbconvert_exporter": "python",
   "pygments_lexer": "ipython3",
   "version": "3.7.13"
  }
 },
 "nbformat": 4,
 "nbformat_minor": 5
}
